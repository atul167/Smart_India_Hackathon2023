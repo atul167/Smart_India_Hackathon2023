{
 "cells": [
  {
   "cell_type": "code",
   "execution_count": 7,
   "id": "562c573b",
   "metadata": {},
   "outputs": [
    {
     "name": "stdout",
     "output_type": "stream",
     "text": [
      "   a   b   c\n",
      "0  2   2   1\n",
      "1  3   4   4\n",
      "2  4   6   7\n",
      "3  5   8  10\n",
      "4  6  10  13\n",
      "5  7  12  16\n",
      "6\n"
     ]
    }
   ],
   "source": [
    "# What is output of following code?\n",
    "import pandas as pd\n",
    "s = pd.DataFrame()\n",
    "\n",
    "s['a']=range(2,8)\n",
    "\n",
    "s['b']=range(2,13,2)\n",
    "\n",
    "s['c']=range(1,19,3)\n",
    "\n",
    "print(s)\n",
    "print(sum((s%2==0)['b']))"
   ]
  },
  {
   "cell_type": "code",
   "execution_count": null,
   "id": "dad10633",
   "metadata": {},
   "outputs": [],
   "source": [
    "mylist = ['Iitp','cse']\n",
    "\n",
    "for i in mylist:\n",
    "    mylist.append(i.upper())\n",
    "    \n",
    "print(mulist)"
   ]
  },
  {
   "cell_type": "code",
   "execution_count": null,
   "id": "0812a237",
   "metadata": {},
   "outputs": [],
   "source": []
  }
 ],
 "metadata": {
  "kernelspec": {
   "display_name": "Python 3 (ipykernel)",
   "language": "python",
   "name": "python3"
  },
  "language_info": {
   "codemirror_mode": {
    "name": "ipython",
    "version": 3
   },
   "file_extension": ".py",
   "mimetype": "text/x-python",
   "name": "python",
   "nbconvert_exporter": "python",
   "pygments_lexer": "ipython3",
   "version": "3.9.12"
  }
 },
 "nbformat": 4,
 "nbformat_minor": 5
}
